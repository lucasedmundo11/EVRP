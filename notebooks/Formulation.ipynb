{
 "cells": [
  {
   "attachments": {},
   "cell_type": "markdown",
   "metadata": {},
   "source": [
    "# EVRP Algorithm\n",
    "___"
   ]
  },
  {
   "cell_type": "markdown",
   "metadata": {},
   "source": [
    "\n",
    "### Index\n",
    "\n",
    "___\n"
   ]
  },
  {
   "cell_type": "code",
   "execution_count": 1,
   "metadata": {},
   "outputs": [],
   "source": [
    "import sys\n",
    "import os\n",
    "from pathlib import Path \n",
    "sys.path.insert(1 ,os.path.dirname(Path(os.path.abspath(\"__file__\")).resolve().parent))\n",
    "\n",
    "import math\n",
    "import folium\n",
    "import pickle\n",
    "import numpy as np\n",
    "import pandas as pd\n",
    "from geopy import Point, Nominatim\n",
    "from geopy.distance import geodesic\n",
    "import itertools \n",
    "\n",
    "import pyomo.solvers\n",
    "import pyomo.environ as pyo\n",
    "from pyomo.opt import SolverFactory\n",
    "\n",
    "from datetime import datetime"
   ]
  },
  {
   "cell_type": "code",
   "execution_count": 2,
   "metadata": {},
   "outputs": [],
   "source": [
    "# initial environ settings \n",
    "file_path = \"../data/input/EVRP - Template.xlsx\"\n",
    "model = pyo.ConcreteModel()\n",
    "opt = SolverFactory('glpk')"
   ]
  },
  {
   "cell_type": "code",
   "execution_count": 3,
   "metadata": {},
   "outputs": [],
   "source": [
    "# Constantes\n",
    "velocidade_media = 20\n",
    "tempo_serviço = 0.5"
   ]
  },
  {
   "cell_type": "code",
   "execution_count": 4,
   "metadata": {},
   "outputs": [],
   "source": [
    "# Cálculo de distância entre pontos i e j\n",
    "def calcular_distancia(latitude_i, longitude_i, latitude_j, longitude_j):\n",
    "    return math.ceil(geodesic(Point(latitude=latitude_i, longitude=longitude_i), Point(latitude=latitude_j, longitude=longitude_j)).km)"
   ]
  },
  {
   "cell_type": "code",
   "execution_count": 5,
   "metadata": {},
   "outputs": [],
   "source": [
    "# CONJUNTOS\n",
    "# Clientes\n",
    "df_clientes = pd.read_excel(file_path, sheet_name='Clientes')\n",
    "df_clientes = df_clientes.iloc[:5]\n",
    "clientes = df_clientes.to_dict(\"records\")\n",
    "clientes = {\n",
    "    cliente['Cliente']: {\n",
    "        'Latitude': cliente['Latitude'],\n",
    "        'Longitude': cliente['Longitude'],\n",
    "        'Quantidade': cliente['Quantidade'],\n",
    "        'Leadtime': cliente['Leadtime']\n",
    "    }\n",
    "    for cliente in clientes\n",
    "}\n",
    "\n",
    "# Pontos de Recarga\n",
    "df_pontos_recarga = pd.read_csv(\"../data/input/charging_stations.csv\", sep=\";\", decimal=\".\", encoding=\"utf-8\")\n",
    "pontos_recarga = df_pontos_recarga.to_dict(\"records\")\n",
    "pontos_recarga = {\n",
    "    ponto['ID']: {\n",
    "        'Latitude': ponto['Latitude'],\n",
    "        'Longitude': ponto['Longitude'],\n",
    "        'Potência de Recarga': ponto['Potência de Recarga']\n",
    "    }\n",
    "    for ponto in pontos_recarga\n",
    "}\n",
    "\n",
    "# Veículos\n",
    "df_veiculos = pd.read_excel(file_path, sheet_name='Veículos')\n",
    "df_veiculos = df_veiculos.iloc[:1]\n",
    "veiculos = df_veiculos.to_dict(\"records\")\n",
    "veiculos = {\n",
    "    veiculo['Veículo']: {\n",
    "        'Capacidade da Bateria (kWh)': veiculo['Capacidade da Bateria (kWh)'],\n",
    "        'Consumo (kWh/km)': veiculo['Consumo (kWh/km)'],\n",
    "        'Autonomia (km)': veiculo['Capacidade da Bateria (kWh)'] / veiculo['Consumo (kWh/km)']\n",
    "    }\n",
    "    for veiculo in veiculos\n",
    "}\n",
    "\n",
    "# Centros de Distribuição\n",
    "df = pd.read_excel(file_path, sheet_name='Centro de Distribuição')\n",
    "centros_distribuicao = df.to_dict(\"records\")\n",
    "centros_distribuicao = {\n",
    "    centro['Centro de Distribuição']: {\n",
    "        'Latitude': centro['Latitude'],\n",
    "        'Longitude': centro['Longitude']\n",
    "    }\n",
    "    for centro in centros_distribuicao\n",
    "}\n",
    "\n",
    "# Todos os pontos\n",
    "pontos = {}\n",
    "pontos.update(clientes)\n",
    "pontos.update(pontos_recarga)\n",
    "pontos.update(centros_distribuicao)"
   ]
  },
  {
   "cell_type": "code",
   "execution_count": 6,
   "metadata": {},
   "outputs": [],
   "source": [
    "# Sets\n",
    "model.C = pyo.Set(initialize=clientes.keys(), doc='Clientes')\n",
    "model.R = pyo.Set(initialize=pontos_recarga.keys(), doc='Pontos de Recarga')\n",
    "#model.P = pyo.Set(initialize=pedidos.keys(), doc='Pedidos')\n",
    "model.K = pyo.Set(initialize=veiculos.keys(), doc='Veículos')\n",
    "model.zero = pyo.Set(initialize=centros_distribuicao.keys(), doc='Centros de Distribuição')\n",
    "\n",
    "model.N = pyo.Set(initialize=model.C.union(model.R), doc='Conjunto de pontos - Clientes e Pontos de Recarga')\n",
    "model.Nlinha = pyo.Set(initialize=model.N.union(model.zero), doc='Conjuntos de pontos - N e Centros de Distribuição')"
   ]
  },
  {
   "cell_type": "code",
   "execution_count": 7,
   "metadata": {},
   "outputs": [],
   "source": [
    "# Parametros\n",
    "def atribuir_distancia(model, i, j):\n",
    "    try:\n",
    "        return calcular_distancia(pontos[i]['Latitude'], pontos[i]['Longitude'], pontos[j]['Latitude'], pontos[j]['Longitude'])\n",
    "    except KeyError:\n",
    "        return 0\n",
    "model.d = pyo.Param(model.Nlinha, model.Nlinha, initialize=atribuir_distancia, doc='Distância entre pontos i e j (km)')\n",
    "\n",
    "#def atribuir_capacidade(model, k):\n",
    "#    try:\n",
    "#        return veiculos[k]['Capacidade da Bateria (kWh)']\n",
    "#    except KeyError:\n",
    "#        return 0\n",
    "#model.Q = pyo.Param(model.K, within=pyo.NonNegativeIntegers, initialize=atribuir_capacidade, doc='Capacidade da bateria do veículo (kWh)')\n",
    "\n",
    "model.v = pyo.Param(within=pyo.NonNegativeIntegers, initialize=velocidade_media, doc='Velocidade média dos Veículos (km/h)')\n",
    "\n",
    "def atribuir_autonomia(model, k):\n",
    "    try:\n",
    "        return veiculos[k]['Autonomia (km)']\n",
    "    except KeyError:\n",
    "        return 0\n",
    "model.a = pyo.Param(model.K, within=pyo.NonNegativeReals, initialize=atribuir_autonomia, doc='Autonomia do veículo (km)')\n",
    "\n",
    "def atribuir_consumo(model, k):\n",
    "    try:\n",
    "        return veiculos[k]['Consumo (kWh/km)']\n",
    "    except KeyError:\n",
    "        return 0\n",
    "model.c = pyo.Param(model.K, within=pyo.NonNegativeReals, initialize=atribuir_consumo, doc='Consumo por Km do veículo (kWh/km)')\n",
    "\n",
    "def atribuir_potencia_recarga(model, r):\n",
    "    try:\n",
    "        return pontos_recarga[r]['Potência de Recarga']\n",
    "    except KeyError:\n",
    "        return 0\n",
    "model.r = pyo.Param(model.Nlinha, within=pyo.NonNegativeReals, initialize=atribuir_potencia_recarga, doc='Potência de recarga do ponto de recarga (kWh)')\n",
    "\n",
    "#def atribuir_demanda(model, i):\n",
    "#    try:\n",
    "#        return clientes[i]['Quantidade']\n",
    "#    except KeyError:\n",
    "#        return 0\n",
    "#model.q = pyo.Param(model.C, within=pyo.NonNegativeReals, initialize=atribuir_demanda, doc='Demanda do pedido do cliente i (unidades)')\n",
    "\n",
    "def atribuir_leadtime(model, i):\n",
    "    try:\n",
    "        return clientes[i]['Leadtime']*1000\n",
    "    except KeyError:\n",
    "        return 0\n",
    "model.l = pyo.Param(model.C, within=pyo.NonNegativeReals, initialize=atribuir_leadtime, doc='Leadtime do pedido do cliente i (horas)')\n",
    "\n",
    "model.s = pyo.Param(within=pyo.NonNegativeReals, initialize=tempo_serviço, doc='Tempo de serviço (horas)')\n",
    "\n",
    "model.tzero = pyo.Param(within=pyo.NonNegativeReals, initialize=0, doc='Tempo inicial (horas)')"
   ]
  },
  {
   "cell_type": "code",
   "execution_count": 8,
   "metadata": {},
   "outputs": [],
   "source": [
    "# Variáveis de decisão\n",
    "model.x = pyo.Var(model.K, model.Nlinha, model.Nlinha, within=pyo.Binary, initialize=0, doc='Variável de decisão que indica se o veículo 𝑘 vai de i para j')\n",
    "def y_init(model, k, i):\n",
    "    if i in model.zero:\n",
    "        return model.a[k]\n",
    "model.y = pyo.Var(model.K, model.Nlinha, within=pyo.NonNegativeIntegers, initialize=y_init, doc='Quantidade de bateria do veículo 𝑘 no ponto i')\n",
    "model.t = pyo.Var(model.K, model.Nlinha, within=pyo.NonNegativeReals, doc='Variável de decisão que indica o tempo de chegada do veículo 𝑘 no ponto i')\n",
    "model.u = pyo.Var(model.K, model.Nlinha, within=pyo.NonNegativeIntegers, doc='Variável de decisão que indica a carga adicionada ao veículo 𝑘 no ponto i')\n",
    "#model.z = pyo.Var(model.K, model.R, within=pyo.Binary, doc='Variável binária que indica se o veículo recarrega no ponto i')"
   ]
  },
  {
   "cell_type": "code",
   "execution_count": 9,
   "metadata": {},
   "outputs": [],
   "source": [
    "# Função Objetivo\n",
    "def FuncaoObj(model):\n",
    "    return sum(model.x[k, i, j] * model.d[i, j] for k in model.K for i in model.Nlinha for j in model.Nlinha)\n",
    "model.obj = pyo.Objective(rule=FuncaoObj, sense=pyo.minimize, doc='Função Objetivo para Otimização do Problema de Roteirização de Veículos Elétricos - EVRP')"
   ]
  },
  {
   "cell_type": "code",
   "execution_count": null,
   "metadata": {},
   "outputs": [],
   "source": [
    "# Restrições\n",
    "def atendimento_pedido_rule(model, i):\n",
    "    return sum(model.x[k, i, j] for k in model.K for j in model.Nlinha) >= 1\n",
    "model.atendimento_cliente = pyo.Constraint(model.C, rule=atendimento_pedido_rule, doc='Restrição de atendimento ao cliente i')\n",
    "\n",
    "#def capacidade_bateria_rule(model, k, i):\n",
    "#    return model.y[k, i] <= model.a[k]\n",
    "#model.capacidade_bateria = pyo.Constraint(model.K, model.Nlinha, rule=capacidade_bateria_rule, doc='Restrição de capacidade da bateria do veículo k')\n",
    "\n",
    "#def carregamento_veiculo_rule(model, k, i):\n",
    "#    #return model.y[k, i] + (model.u[k, i] * model.z[k, i]) <= model.a[k]\n",
    "#    return model.y[k, i] + model.u[k, i] <= model.a[k]\n",
    "#model.carregamento_veiculo = pyo.Constraint(model.K, model.Nlinha, rule=carregamento_veiculo_rule, doc='Restrição de carregamento do veículo k')\n",
    "\n",
    "#def recarga_apenas_em_pontos_de_recarga_rule(model, k, i):\n",
    "#    if i not in model.R:\n",
    "#        #return model.z[k, i] == 0\n",
    "#        return model.u[k, i] == 0\n",
    "#    return pyo.Constraint.Skip\n",
    "#model.recarga_pontos_recarga = pyo.Constraint(model.K, model.Nlinha, rule=recarga_apenas_em_pontos_de_recarga_rule, doc='Restrição de recarga apenas em pontos de recarga')\n",
    "#\n",
    "#def autonomia_rule(model, k, i, j):\n",
    "#    return model.y[k, i] - model.y[k, j] >= model.d[i, j] * model.x[k, i, j]\n",
    "#model.autonomia = pyo.Constraint(model.K, model.Nlinha, model.Nlinha, rule=autonomia_rule, doc='Restrição de autonomia do veículo k')\n",
    "\n",
    "#def leadtime_rule(model, k, i):\n",
    "#    return model.t[k, i] + model.s <= model.l[i]\n",
    "#model.leadtime = pyo.Constraint(model.K, model.C, rule=leadtime_rule, doc='Restrição de leadtime do pedido do cliente i')\n",
    "\n",
    "def conservacao_fluxo_rule(model, k, i):\n",
    "    return sum(model.x[k, i, j] for j in model.Nlinha) == sum(model.x[k, j, i] for j in model.Nlinha)\n",
    "model.conservacao_fluxo = pyo.Constraint(model.K, model.C, rule=conservacao_fluxo_rule, doc='Restrição de conservação de fluxo')\n",
    "\n",
    "#def tempo_de_servico_rule(model, k, i, j):\n",
    "#    #return model.t[k, i] + model.s[p] + (model.d[i, j]/model.v) + (model.u[k, i] * model.z[k, i] * (model.r[i]/model.c[k])) <= model.t[k, j]\n",
    "#    return model.t[k, i] + model.s + (model.d[i, j]/model.v) + (model.u[k, i] * (model.r[i]/model.c[k])) <= model.t[k, j]\n",
    "#model.tempo_de_servico = pyo.Constraint(model.K, model.Nlinha, model.Nlinha, rule=tempo_de_servico_rule, doc='Restrição de tempo de serviço')\n",
    "\n",
    "def partida_deposito_rule(model, k, zero):\n",
    "    return sum(model.x[k, zero, j] for j in model.N) == 1\n",
    "model.partida_deposito = pyo.Constraint(model.K, model.zero, rule=partida_deposito_rule, doc='Restrição de partida do depósito')\n",
    "\n",
    "def retorno_deposito_rule(model, k, zero):\n",
    "    return sum(model.x[k, i, zero] for i in model.N) == 1\n",
    "model.retorno_deposito = pyo.Constraint(model.K, model.zero, rule=retorno_deposito_rule, doc='Restrição de retorno ao depósito')\n",
    "\n",
    "def no_self_loops_rule(model, k, i):\n",
    "    return model.x[k, i, i] == 0\n",
    "model.no_self_loops = pyo.Constraint(model.K, model.C, rule=no_self_loops_rule)\n"
   ]
  },
  {
   "cell_type": "code",
   "execution_count": 11,
   "metadata": {},
   "outputs": [
    {
     "name": "stdout",
     "output_type": "stream",
     "text": [
      "y : Quantidade de bateria do veículo 𝑘 no ponto i\n",
      "    Size=42, Index=K*Nlinha\n",
      "    Key            : Lower : Value : Upper : Fixed : Stale : Domain\n",
      "      ('V1', 'C1') :     0 :  None :  None : False :  True : NonNegativeIntegers\n",
      "     ('V1', 'C10') :     0 :  None :  None : False :  True : NonNegativeIntegers\n",
      "    ('V1', 'C100') :     0 :  None :  None : False :  True : NonNegativeIntegers\n",
      "    ('V1', 'C101') :     0 :  None :  None : False :  True : NonNegativeIntegers\n",
      "    ('V1', 'C102') :     0 :  None :  None : False :  True : NonNegativeIntegers\n",
      "     ('V1', 'CD1') :     0 : 400.0 :  None : False : False : NonNegativeIntegers\n",
      "      ('V1', 'R1') :     0 :  None :  None : False :  True : NonNegativeIntegers\n",
      "     ('V1', 'R10') :     0 :  None :  None : False :  True : NonNegativeIntegers\n",
      "     ('V1', 'R11') :     0 :  None :  None : False :  True : NonNegativeIntegers\n",
      "     ('V1', 'R12') :     0 :  None :  None : False :  True : NonNegativeIntegers\n",
      "     ('V1', 'R13') :     0 :  None :  None : False :  True : NonNegativeIntegers\n",
      "     ('V1', 'R14') :     0 :  None :  None : False :  True : NonNegativeIntegers\n",
      "     ('V1', 'R15') :     0 :  None :  None : False :  True : NonNegativeIntegers\n",
      "     ('V1', 'R16') :     0 :  None :  None : False :  True : NonNegativeIntegers\n",
      "     ('V1', 'R17') :     0 :  None :  None : False :  True : NonNegativeIntegers\n",
      "     ('V1', 'R18') :     0 :  None :  None : False :  True : NonNegativeIntegers\n",
      "     ('V1', 'R19') :     0 :  None :  None : False :  True : NonNegativeIntegers\n",
      "      ('V1', 'R2') :     0 :  None :  None : False :  True : NonNegativeIntegers\n",
      "     ('V1', 'R20') :     0 :  None :  None : False :  True : NonNegativeIntegers\n",
      "     ('V1', 'R21') :     0 :  None :  None : False :  True : NonNegativeIntegers\n",
      "     ('V1', 'R22') :     0 :  None :  None : False :  True : NonNegativeIntegers\n",
      "     ('V1', 'R23') :     0 :  None :  None : False :  True : NonNegativeIntegers\n",
      "     ('V1', 'R24') :     0 :  None :  None : False :  True : NonNegativeIntegers\n",
      "     ('V1', 'R25') :     0 :  None :  None : False :  True : NonNegativeIntegers\n",
      "     ('V1', 'R26') :     0 :  None :  None : False :  True : NonNegativeIntegers\n",
      "     ('V1', 'R27') :     0 :  None :  None : False :  True : NonNegativeIntegers\n",
      "     ('V1', 'R28') :     0 :  None :  None : False :  True : NonNegativeIntegers\n",
      "     ('V1', 'R29') :     0 :  None :  None : False :  True : NonNegativeIntegers\n",
      "      ('V1', 'R3') :     0 :  None :  None : False :  True : NonNegativeIntegers\n",
      "     ('V1', 'R30') :     0 :  None :  None : False :  True : NonNegativeIntegers\n",
      "     ('V1', 'R31') :     0 :  None :  None : False :  True : NonNegativeIntegers\n",
      "     ('V1', 'R32') :     0 :  None :  None : False :  True : NonNegativeIntegers\n",
      "     ('V1', 'R33') :     0 :  None :  None : False :  True : NonNegativeIntegers\n",
      "     ('V1', 'R34') :     0 :  None :  None : False :  True : NonNegativeIntegers\n",
      "     ('V1', 'R35') :     0 :  None :  None : False :  True : NonNegativeIntegers\n",
      "     ('V1', 'R36') :     0 :  None :  None : False :  True : NonNegativeIntegers\n",
      "      ('V1', 'R4') :     0 :  None :  None : False :  True : NonNegativeIntegers\n",
      "      ('V1', 'R5') :     0 :  None :  None : False :  True : NonNegativeIntegers\n",
      "      ('V1', 'R6') :     0 :  None :  None : False :  True : NonNegativeIntegers\n",
      "      ('V1', 'R7') :     0 :  None :  None : False :  True : NonNegativeIntegers\n",
      "      ('V1', 'R8') :     0 :  None :  None : False :  True : NonNegativeIntegers\n",
      "      ('V1', 'R9') :     0 :  None :  None : False :  True : NonNegativeIntegers\n"
     ]
    }
   ],
   "source": [
    "model.y.display()"
   ]
  },
  {
   "cell_type": "code",
   "execution_count": 12,
   "metadata": {},
   "outputs": [
    {
     "name": "stdout",
     "output_type": "stream",
     "text": [
      "GLPSOL--GLPK LP/MIP Solver 5.0\n",
      "Parameter(s) specified in the command line:\n",
      " --write /var/folders/z2/j74ffpw54cb32byxqc_10ss40000gn/T/tmp62a_pl4k.glpk.raw\n",
      " --wglp /var/folders/z2/j74ffpw54cb32byxqc_10ss40000gn/T/tmprmwtqcfb.glpk.glp\n",
      " --cpxlp /var/folders/z2/j74ffpw54cb32byxqc_10ss40000gn/T/tmp4zdjywm8.pyomo.lp\n",
      "Reading problem data from '/var/folders/z2/j74ffpw54cb32byxqc_10ss40000gn/T/tmp4zdjywm8.pyomo.lp'...\n",
      "/var/folders/z2/j74ffpw54cb32byxqc_10ss40000gn/T/tmp4zdjywm8.pyomo.lp:4153: warning: lower bound of variable 'x1703' redefined\n",
      "/var/folders/z2/j74ffpw54cb32byxqc_10ss40000gn/T/tmp4zdjywm8.pyomo.lp:4153: warning: upper bound of variable 'x1703' redefined\n",
      "12 rows, 1705 columns, 702 non-zeros\n",
      "1705 integer variables, all of which are binary\n",
      "5858 lines were read\n",
      "Writing problem data to '/var/folders/z2/j74ffpw54cb32byxqc_10ss40000gn/T/tmprmwtqcfb.glpk.glp'...\n",
      "4129 lines were written\n",
      "GLPK Integer Optimizer 5.0\n",
      "12 rows, 1705 columns, 702 non-zeros\n",
      "1705 integer variables, all of which are binary\n",
      "Preprocessing...\n",
      "12 rows, 467 columns, 702 non-zeros\n",
      "467 integer variables, all of which are binary\n",
      "Scaling...\n",
      " A: min|aij| =  1.000e+00  max|aij| =  1.000e+00  ratio =  1.000e+00\n",
      "Problem data seem to be well scaled\n",
      "Constructing initial basis...\n",
      "Size of triangular part is 12\n",
      "Solving LP relaxation...\n",
      "GLPK Simplex Optimizer 5.0\n",
      "12 rows, 467 columns, 702 non-zeros\n",
      "*     0: obj =   4.200000000e+01 inf =   0.000e+00 (129)\n",
      "*    12: obj =   6.000000000e+00 inf =   0.000e+00 (0)\n",
      "OPTIMAL LP SOLUTION FOUND\n",
      "Integer optimization begins...\n",
      "Long-step dual simplex will be used\n",
      "+    12: mip =     not found yet >=              -inf        (1; 0)\n",
      "+    12: >>>>>   6.000000000e+00 >=   6.000000000e+00   0.0% (1; 0)\n",
      "+    12: mip =   6.000000000e+00 >=     tree is empty   0.0% (0; 1)\n",
      "INTEGER OPTIMAL SOLUTION FOUND\n",
      "Time used:   0.0 secs\n",
      "Memory used: 0.7 Mb (713660 bytes)\n",
      "Writing MIP solution to '/var/folders/z2/j74ffpw54cb32byxqc_10ss40000gn/T/tmp62a_pl4k.glpk.raw'...\n",
      "1726 lines were written\n"
     ]
    }
   ],
   "source": [
    "results = opt.solve(model, tee=True)"
   ]
  },
  {
   "cell_type": "code",
   "execution_count": 13,
   "metadata": {},
   "outputs": [
    {
     "name": "stdout",
     "output_type": "stream",
     "text": [
      "# ==========================================================\n",
      "# = Solver Results                                         =\n",
      "# ==========================================================\n",
      "# ----------------------------------------------------------\n",
      "#   Problem Information\n",
      "# ----------------------------------------------------------\n",
      "Problem: \n",
      "- Name: unknown\n",
      "  Lower bound: 6.0\n",
      "  Upper bound: 6.0\n",
      "  Number of objectives: 1\n",
      "  Number of constraints: 12\n",
      "  Number of variables: 1705\n",
      "  Number of nonzeros: 702\n",
      "  Sense: minimize\n",
      "# ----------------------------------------------------------\n",
      "#   Solver Information\n",
      "# ----------------------------------------------------------\n",
      "Solver: \n",
      "- Status: ok\n",
      "  Termination condition: optimal\n",
      "  Statistics: \n",
      "    Branch and bound: \n",
      "      Number of bounded subproblems: 1\n",
      "      Number of created subproblems: 1\n",
      "  Error rc: 0\n",
      "  Time: 0.011362791061401367\n",
      "# ----------------------------------------------------------\n",
      "#   Solution Information\n",
      "# ----------------------------------------------------------\n",
      "Solution: \n",
      "- number of solutions: 0\n",
      "  number of solutions displayed: 0\n"
     ]
    }
   ],
   "source": [
    "results.write()"
   ]
  },
  {
   "cell_type": "code",
   "execution_count": 16,
   "metadata": {},
   "outputs": [
    {
     "name": "stdout",
     "output_type": "stream",
     "text": [
      "Veículo V1 vai de C1 para C1\n",
      "Veículo V1 vai de C10 para C10\n",
      "Veículo V1 vai de C100 para C100\n",
      "Veículo V1 vai de C101 para C101\n",
      "Veículo V1 vai de C102 para C102\n",
      "Veículo V1 vai de R1 para CD1\n",
      "Veículo V1 vai de CD1 para R1\n"
     ]
    }
   ],
   "source": [
    "for k, i, j in model.x:\n",
    "    if (model.x[k, i, j].value > 0):\n",
    "        print(f\"Veículo {k} vai de {i} para {j}\")"
   ]
  },
  {
   "cell_type": "code",
   "execution_count": 15,
   "metadata": {},
   "outputs": [
    {
     "ename": "TypeError",
     "evalue": "'>' not supported between instances of 'NoneType' and 'int'",
     "output_type": "error",
     "traceback": [
      "\u001b[0;31m---------------------------------------------------------------------------\u001b[0m",
      "\u001b[0;31mTypeError\u001b[0m                                 Traceback (most recent call last)",
      "Cell \u001b[0;32mIn[15], line 2\u001b[0m\n\u001b[1;32m      1\u001b[0m \u001b[38;5;28;01mfor\u001b[39;00m k, i \u001b[38;5;129;01min\u001b[39;00m model\u001b[38;5;241m.\u001b[39my:\n\u001b[0;32m----> 2\u001b[0m     \u001b[38;5;28;01mif\u001b[39;00m model\u001b[38;5;241m.\u001b[39my[k, i]\u001b[38;5;241m.\u001b[39mvalue \u001b[38;5;241m>\u001b[39m \u001b[38;5;241m0\u001b[39m:\n\u001b[1;32m      3\u001b[0m         \u001b[38;5;28mprint\u001b[39m(\u001b[38;5;124mf\u001b[39m\u001b[38;5;124m\"\u001b[39m\u001b[38;5;124mVeículo \u001b[39m\u001b[38;5;132;01m{\u001b[39;00mk\u001b[38;5;132;01m}\u001b[39;00m\u001b[38;5;124m tem \u001b[39m\u001b[38;5;132;01m{\u001b[39;00mmodel\u001b[38;5;241m.\u001b[39my[k,\u001b[38;5;250m \u001b[39mi]\u001b[38;5;241m.\u001b[39mvalue\u001b[38;5;132;01m}\u001b[39;00m\u001b[38;5;124m de bateria no ponto \u001b[39m\u001b[38;5;132;01m{\u001b[39;00mi\u001b[38;5;132;01m}\u001b[39;00m\u001b[38;5;124m\"\u001b[39m)\n",
      "\u001b[0;31mTypeError\u001b[0m: '>' not supported between instances of 'NoneType' and 'int'"
     ]
    }
   ],
   "source": [
    "for k, i in model.y:\n",
    "    if model.y[k, i].value > 0:\n",
    "        print(f\"Veículo {k} tem {model.y[k, i].value} de bateria no ponto {i}\")"
   ]
  },
  {
   "cell_type": "code",
   "execution_count": null,
   "metadata": {},
   "outputs": [],
   "source": [
    "for k, i in model.u:\n",
    "    if model.u[k, i].value > 0:\n",
    "        print(f\"Veículo {k} adicionou {model.u[k, i].value} de bateria no ponto {i}\")"
   ]
  },
  {
   "cell_type": "code",
   "execution_count": null,
   "metadata": {},
   "outputs": [],
   "source": []
  }
 ],
 "metadata": {
  "kernelspec": {
   "display_name": "env",
   "language": "python",
   "name": "python3"
  },
  "language_info": {
   "codemirror_mode": {
    "name": "ipython",
    "version": 3
   },
   "file_extension": ".py",
   "mimetype": "text/x-python",
   "name": "python",
   "nbconvert_exporter": "python",
   "pygments_lexer": "ipython3",
   "version": "3.12.7"
  },
  "orig_nbformat": 4
 },
 "nbformat": 4,
 "nbformat_minor": 2
}
